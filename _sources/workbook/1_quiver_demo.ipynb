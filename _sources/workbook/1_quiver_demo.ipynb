{
 "cells": [
  {
   "cell_type": "markdown",
   "metadata": {},
   "source": [
    "# Example 2-2: Quiver plots\n",
    "\n",
    "```{admonition} Important!\n",
    ":class: tip\n",
    "If you're completely new to Python, you may want to go through the exercises in the {doc}`../tutorials/1_fund-python_blank` notebook first!\n",
    "```\n",
    "\n",
    "While the majority of this class will be spent on solving ordinary differential equations (ODEs) analytically and numerically, a key aspect of verifying the correctness of our solution is in plotting it.\n",
    "In this example, we will show how to make arrow plots that represent the direction field in a region (you may have seen these plots in the context of vector fields in CME 100)."
   ]
  },
  {
   "cell_type": "markdown",
   "metadata": {},
   "source": [
    "## Summary of commands\n",
    "\n",
    "In this exercise, we will demonstrate the following:\n",
    "- [**Numpy**](https://numpy.org/doc/stable/index.html)\n",
    "    - [`np.linspace(start, stop, num)`](https://numpy.org/doc/stable/reference/generated/numpy.linspace.html) - Returns `num` evenly spaced numbers between `start` and `stop` (inclusive).\n",
    "    - [`np.meshgrid(x, y)`](https://numpy.org/doc/stable/reference/generated/numpy.meshgrid.html) - Create a 2D grid of coordinate values based on 1D `x` and `y` arrays.\n",
    "        - The result is two `X` and `Y` _2D arrays_ with the corresponding 1D arrays tiled across the other dimension.\n",
    "    - [`np.ones(shape)`](https://numpy.org/doc/stable/reference/generated/numpy.ones.html) - Returns an array of the given shape of all `1`s.\n",
    "    - Common functions like [`np.sqrt(x)`](https://numpy.org/doc/stable/reference/generated/numpy.sqrt.html) and [`np.exp(x)`](https://numpy.org/doc/stable/reference/generated/numpy.exp.html) for $\\sqrt{x}$ and $e^{x}$, respectively, of an array `x` (element-wise).\n",
    "- [**Matplotlib**](https://matplotlib.org/stable/)\n",
    "    - [`plt.subplots()`](https://matplotlib.org/stable/api/_as_gen/matplotlib.pyplot.subplots.html) - Create Figure and Axes objects for plotting. Many possible parameters.\n",
    "    - [`ax.plot(x, y, ...)`](https://matplotlib.org/stable/api/_as_gen/matplotlib.axes.Axes.plot.html) - Create a scatter/line plot in 1D, `y` vs. `x`. Many styles possible.\n",
    "    - [`ax.set(...)`](https://matplotlib.org/stable/api/_as_gen/matplotlib.axes.Axes.set.html) - Set axes `xlabel`, `ylabel`, `xlim`, `ylim`, `title`, etc."
   ]
  },
  {
   "cell_type": "markdown",
   "metadata": {},
   "source": [
    "## Demo\n",
    "\n",
    "We will multiply the following two matrices:\n",
    "\n",
    "$$ A = \\begin{bmatrix} 1 & 2 \\\\ -1 & 3 \\end{bmatrix}, \\qquad B = \\begin{bmatrix} 1 & 0 & 1 \\\\ 2 & 1 & 0 \\end{bmatrix}. $$\n",
    "\n",
    "We will determine the size of the resulting matrix, and display the bottom-left element and the second column on the screen.\n",
    "\n",
    "Hint: Recall that Python is `0`-indexed!"
   ]
  },
  {
   "cell_type": "code",
   "execution_count": 1,
   "metadata": {},
   "outputs": [
    {
     "name": "stdout",
     "output_type": "stream",
     "text": [
      "Product of A * B:\n",
      "[[ 5  2  1]\n",
      " [ 5  3 -1]]\n",
      "\n",
      "The size of matrix C:\n",
      "(2, 3)\n",
      "\n",
      "Bottom-left element of C:\n",
      "5\n",
      "\n",
      "Second column of C:\n",
      "[2 3]\n"
     ]
    }
   ],
   "source": [
    "# initial matrices\n",
    "import numpy as np\n",
    "A = np.array([[1, 2], [-1, 3]])\n",
    "B = np.array([[1, 0, 1], [2, 1, 0]])\n",
    "\n",
    "# calculate and display their product\n",
    "C = A @ B\n",
    "print(\"Product of A * B:\")\n",
    "print(C)\n",
    "print()\n",
    "\n",
    "# calculate the size of the new matrix\n",
    "print(\"The size of matrix C:\")\n",
    "print(C.shape)\n",
    "print()\n",
    "\n",
    "# display bottom-left element and second column\n",
    "print(\"Bottom-left element of C:\")\n",
    "print(C[1,0])\n",
    "print()\n",
    "\n",
    "print(\"Second column of C:\")\n",
    "print(C[:,1])"
   ]
  }
 ],
 "metadata": {
  "kernelspec": {
   "display_name": "Python 3 (ipykernel)",
   "language": "python",
   "name": "python3"
  },
  "language_info": {
   "codemirror_mode": {
    "name": "ipython",
    "version": 3
   },
   "file_extension": ".py",
   "mimetype": "text/x-python",
   "name": "python",
   "nbconvert_exporter": "python",
   "pygments_lexer": "ipython3",
   "version": "3.12.9"
  },
  "widgets": {
   "application/vnd.jupyter.widget-state+json": {
    "state": {},
    "version_major": 2,
    "version_minor": 0
   }
  }
 },
 "nbformat": 4,
 "nbformat_minor": 4
}
