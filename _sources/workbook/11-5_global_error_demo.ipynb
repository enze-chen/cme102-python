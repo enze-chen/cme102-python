{
 "cells": [
  {
   "cell_type": "markdown",
   "metadata": {},
   "source": [
    "# Example 11-5: Global error\n",
    "\n",
    "Given the many tools in our toolbox for solving ODEs, it is important to understand their various advantages and disadvantages.\n",
    "One way to quantify the accuracy of different algorithms is using the **global error** of the approximation.\n",
    "Here we will show how to calculate the global error numerically for Euler's method."
   ]
  },
  {
   "cell_type": "markdown",
   "metadata": {},
   "source": [
    "## Summary of commands\n",
    "\n",
    "In this exercise, we will demonstrate the following:\n",
    "- [`np.linalg.norm(x)`](https://numpy.org/doc/stable/reference/generated/numpy.linalg.norm.html) - Calculate the norm of the array `x`."
   ]
  },
  {
   "cell_type": "markdown",
   "metadata": {},
   "source": [
    "## Global error\n",
    "\n",
    "The global error can be calculated using the following formula:\n",
    "\n",
    "$$ \\text{global error} = \\sqrt{\\frac{\\sum_{n=1}^{N} |y^{\\mathrm{exact}} (t_n) - y^{\\mathrm{numerical}} (t_n) |^2}{N} } $$ \n",
    "\n",
    "While this expression looks complex, it is nothing more than the [Euclidean norm](https://en.wikipedia.org/wiki/Norm_(mathematics)#Euclidean_norm) (2-norm or magnitude) of the vector that is the difference between $y^{\\mathrm{exact}}$ and $y^{\\mathrm{numerical}}$.\n",
    "Therefore, we can calculate it very quickly by using routine linear algebra methods.\n",
    "\n",
    "---------------------------\n",
    "\n",
    "Now, consider the same IVP that we saw previously:\n",
    "\n",
    "$$ y' = -y + 10 \\sin(3t), \\quad y(0) = 0, \\quad 0 \\le t \\le 2 $$\n",
    "\n",
    "The exact solution is $y = -3 \\cos (3t) + \\sin (3t) + 3e^{-t}$.\n",
    "\n",
    "We'll calculate the global error of forward Euler using a step size of $h = 0.2$."
   ]
  },
  {
   "cell_type": "code",
   "execution_count": 4,
   "metadata": {},
   "outputs": [
    {
     "name": "stdout",
     "output_type": "stream",
     "text": [
      "The global error is εG = 0.59359\n"
     ]
    }
   ],
   "source": [
    "# import libraries\n",
    "import numpy as np\n",
    "import matplotlib.pyplot as plt\n",
    "\n",
    "# user-defined function\n",
    "def myODE(t, y):\n",
    "    return -y + 10 * np.sin(3 * t)\n",
    "\n",
    "# Euler's method function\n",
    "def my_euler(f, t0, tf, y0, h):\n",
    "    t = np.arange(t0, tf+h, h)\n",
    "    y = [y0]\n",
    "    for n in range(len(t) - 1):\n",
    "        y.append(y[n] + h * f(t[n], y[n]))\n",
    "    return t, np.array(y)\n",
    "\n",
    "# initialize\n",
    "h = 0.2\n",
    "t0 = 0\n",
    "tf = 2\n",
    "y0 = 0\n",
    "\n",
    "# forward Euler\n",
    "t, y_euler = my_euler(myODE, t0, tf, y0, h)\n",
    "y_exact = -3 * np.cos(3 * t) + np.sin(3 * t) + 3 * np.exp(-t)\n",
    "\n",
    "# compute global error using norm - very fast!\n",
    "err_global = np.linalg.norm(y_euler - y_exact) / np.sqrt(len(t))\n",
    "print(f\"The global error is εG = {err_global:.5f}\")"
   ]
  },
  {
   "cell_type": "markdown",
   "metadata": {},
   "source": [
    "```{tip}\n",
    "What's going on in the last line??\n",
    "That is special syntax for **f-strings**, or [formatted string literals](https://www.pythontutorial.net/python-basics/python-f-strings/), one of the coolest features of Python.\n",
    "It is like a regular string, but everything inside the curly braces `{}` is evaluated on-the-fly, allowing you to insert variables and even functions dynamically into strings.\n",
    "Here we insert the global error and ask it to round the decimal (`float`) to 5 places.\n",
    "```"
   ]
  }
 ],
 "metadata": {
  "kernelspec": {
   "display_name": "Python 3 (ipykernel)",
   "language": "python",
   "name": "python3"
  },
  "language_info": {
   "codemirror_mode": {
    "name": "ipython",
    "version": 3
   },
   "file_extension": ".py",
   "mimetype": "text/x-python",
   "name": "python",
   "nbconvert_exporter": "python",
   "pygments_lexer": "ipython3",
   "version": "3.12.9"
  },
  "widgets": {
   "application/vnd.jupyter.widget-state+json": {
    "state": {},
    "version_major": 2,
    "version_minor": 0
   }
  }
 },
 "nbformat": 4,
 "nbformat_minor": 4
}
